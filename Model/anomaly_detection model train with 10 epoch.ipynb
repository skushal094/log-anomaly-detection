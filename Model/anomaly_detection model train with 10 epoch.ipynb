{
  "nbformat": 4,
  "nbformat_minor": 0,
  "metadata": {
    "kernelspec": {
      "display_name": "Python 3",
      "language": "python",
      "name": "python3"
    },
    "language_info": {
      "codemirror_mode": {
        "name": "ipython",
        "version": 3
      },
      "file_extension": ".py",
      "mimetype": "text/x-python",
      "name": "python",
      "nbconvert_exporter": "python",
      "pygments_lexer": "ipython3",
      "version": "3.8.3"
    },
    "colab": {
      "name": "anomaly_nn.ipynb",
      "provenance": [],
      "collapsed_sections": []
    }
  },
  "cells": [
    {
      "cell_type": "code",
      "metadata": {
        "id": "vJ7lKzXZ-yUl"
      },
      "source": [
        "import os\n",
        "import time\n",
        "import random\n",
        "\n",
        "import numpy as np\n",
        "import pandas as pd\n",
        "\n",
        "import torch\n",
        "import torch.nn as nn\n",
        "import torch.nn.functional as F\n",
        "from torch.utils.data import DataLoader, Dataset\n",
        "\n",
        "import matplotlib.pyplot as plt\n",
        "%matplotlib inline\n",
        "\n",
        "from sklearn.metrics import f1_score\n",
        "from sklearn.model_selection import train_test_split\n",
        "from sklearn.metrics import precision_score\n",
        "from sklearn.metrics import recall_score\n",
        "from sklearn.metrics import confusion_matrix"
      ],
      "execution_count": null,
      "outputs": []
    },
    {
      "cell_type": "code",
      "metadata": {
        "id": "yGeNhGm5o7jh"
      },
      "source": [
        "random.seed(0)\n",
        "\n",
        "np.random.seed(0)"
      ],
      "execution_count": null,
      "outputs": []
    },
    {
      "cell_type": "code",
      "metadata": {
        "id": "1uMjtpRDr-Da"
      },
      "source": [
        "# Change this to run locally\n",
        "is_local = True\n",
        "if is_local:\n",
        "  data_loc = \"/content/drive/MyDrive/SE Research Project/project_processed_data/\"\n",
        "else:\n",
        "  from google.colab import drive\n",
        "  drive.mount('/content/drive')\n",
        "  data_loc = \"./drive/MyDrive/log_data/\"\n"
      ],
      "execution_count": null,
      "outputs": []
    },
    {
      "cell_type": "markdown",
      "metadata": {
        "id": "wsxvHdJI-yUt"
      },
      "source": [
        "## Load and Prepare Data"
      ]
    },
    {
      "cell_type": "code",
      "metadata": {
        "id": "Uoav9WT1-yUu"
      },
      "source": [
        "# Train sets\n",
        "train_data = np.load('{}x_train_tf-idf_v5.npy'.format(data_loc))\n",
        "read_train_labels = pd.read_csv('{}y_train_tf-idf_v5.csv'.format(data_loc))\n",
        "train_labels = read_train_labels['Label'] == 'Anomaly'\n",
        "train_labels = train_labels.astype(int)\n",
        "\n",
        "# Test sets\n",
        "test_data = np.load('{}x_test_tf-idf_v5.npy'.format(data_loc))\n",
        "read_test_labels = pd.read_csv('{}y_test_tf-idf_v5.csv'.format(data_loc))\n",
        "test_labels = read_test_labels['Label'] == 'Anomaly'\n",
        "test_labels = test_labels.astype(int)"
      ],
      "execution_count": null,
      "outputs": []
    },
    {
      "cell_type": "code",
      "metadata": {
        "id": "X09WrmMF-yUu"
      },
      "source": [
        "train_data, val_data, train_labels, val_labels = train_test_split(train_data, train_labels, test_size=0.2, random_state=42)"
      ],
      "execution_count": null,
      "outputs": []
    },
    {
      "cell_type": "code",
      "metadata": {
        "colab": {
          "base_uri": "https://localhost:8080/"
        },
        "id": "ta7khuA6F3e7",
        "outputId": "61c8be36-d3cb-47d0-a878-6e5ad31f1980"
      },
      "source": [
        "train_labels = train_labels.reset_index(drop=True)\n",
        "val_labels = val_labels.reset_index(drop=True)\n",
        "\n",
        "print(\"train data shape\")\n",
        "print(train_data.shape)\n",
        "print(train_labels.shape)\n",
        "print(\"val data shape\")\n",
        "print(val_data.shape)\n",
        "print(val_labels.shape)"
      ],
      "execution_count": null,
      "outputs": [
        {
          "output_type": "stream",
          "name": "stdout",
          "text": [
            "train data shape\n",
            "(315602, 16, 46)\n",
            "(315602,)\n",
            "val data shape\n",
            "(78901, 16, 46)\n",
            "(78901,)\n"
          ]
        }
      ]
    },
    {
      "cell_type": "code",
      "metadata": {
        "colab": {
          "base_uri": "https://localhost:8080/"
        },
        "id": "LNcDmplg4GOp",
        "outputId": "ba963274-36b9-405d-9944-921f8454be85"
      },
      "source": [
        "print(len(test_labels))\n",
        "anom = test_labels[test_labels > 0]\n",
        "norm = test_labels[test_labels == 0]\n",
        "print(anom.shape)\n",
        "print(norm.shape)\n",
        "\n",
        "print(len(anom)/len(test_labels))"
      ],
      "execution_count": null,
      "outputs": [
        {
          "output_type": "stream",
          "name": "stdout",
          "text": [
            "120537\n",
            "(1983,)\n",
            "(118554,)\n",
            "0.016451380074168097\n"
          ]
        }
      ]
    },
    {
      "cell_type": "code",
      "metadata": {
        "colab": {
          "base_uri": "https://localhost:8080/"
        },
        "id": "PL1F69-SsShW",
        "outputId": "f866b8df-71e5-4273-e89b-b418dbb15240"
      },
      "source": [
        "print(len(train_labels))\n",
        "anom = train_labels[train_labels > 0]\n",
        "norm = train_labels[train_labels == 0]\n",
        "print(anom.shape)\n",
        "print(norm.shape)\n",
        "\n",
        "print(len(anom)/len(train_labels))"
      ],
      "execution_count": null,
      "outputs": [
        {
          "output_type": "stream",
          "name": "stdout",
          "text": [
            "315602\n",
            "(9825,)\n",
            "(305777,)\n",
            "0.03113098142597322\n"
          ]
        }
      ]
    },
    {
      "cell_type": "code",
      "metadata": {
        "id": "sPraFUqn-yUx"
      },
      "source": [
        "class logDataset(Dataset):\n",
        "    \"\"\"Log Anomaly Features Dataset\"\"\"\n",
        "    \n",
        "    def __init__(self, data_vec, labels=None):\n",
        "        self.X = data_vec\n",
        "        self.y = labels\n",
        "        \n",
        "    def __len__(self):\n",
        "        return len(self.X)\n",
        "        \n",
        "    def __getitem__(self, idx):\n",
        "        data_matrix = self.X[idx]\n",
        "        \n",
        "        if not self.y is None:\n",
        "            return(data_matrix, self.y[idx])\n",
        "        else:\n",
        "            return data_matrix\n"
      ],
      "execution_count": null,
      "outputs": []
    },
    {
      "cell_type": "code",
      "metadata": {
        "id": "Ol2-sxy5-yUy"
      },
      "source": [
        "# add 1 1 1 1 for padding\n",
        "train_data = torch.tensor(train_data, dtype=torch.float32)\n",
        "train_data = F.pad(input=train_data, pad=(1, 1, 1, 1), mode='constant', value=0) # pad all sides with 0s\n",
        "train_data = np.expand_dims(train_data, axis=1)\n",
        "test_data = torch.tensor(test_data, dtype=torch.float32)\n",
        "test_data = F.pad(input=test_data, pad=(1, 1, 1, 1), mode='constant', value=0)\n",
        "test_data = np.expand_dims(test_data, axis=1)\n",
        "val_data = torch.tensor(val_data, dtype=torch.float32)\n",
        "val_data = F.pad(input=val_data, pad=(1, 1, 1, 1), mode='constant', value=0)\n",
        "val_data = np.expand_dims(val_data, axis=1)"
      ],
      "execution_count": null,
      "outputs": []
    },
    {
      "cell_type": "code",
      "metadata": {
        "id": "ShW0RdNY-yU0"
      },
      "source": [
        "# Hyperparameters\n",
        "RANDOM_SEED = 1\n",
        "LEARNING_RATE = 0.001\n",
        "BATCH_SIZE = 128\n",
        "NUM_EPOCHS = 10\n",
        "\n",
        "NUM_CLASSES = 2\n",
        "\n",
        "# Other\n",
        "if torch.cuda.is_available():\n",
        "    DEVICE = \"cuda:0\"\n",
        "else:\n",
        "    DEVICE = \"cpu\"\n"
      ],
      "execution_count": null,
      "outputs": []
    },
    {
      "cell_type": "code",
      "metadata": {
        "colab": {
          "base_uri": "https://localhost:8080/"
        },
        "id": "hrWfRD0uWfgG",
        "outputId": "b5d75ecb-692f-42c6-8286-478eefeb32ff"
      },
      "source": [
        "print(torch.cuda.is_available())"
      ],
      "execution_count": null,
      "outputs": [
        {
          "output_type": "stream",
          "name": "stdout",
          "text": [
            "False\n"
          ]
        }
      ]
    },
    {
      "cell_type": "code",
      "metadata": {
        "id": "I7_3tMRl-yU0"
      },
      "source": [
        "# pass datasets into the custom dataclass\n",
        "train_dataset = logDataset(train_data, labels = train_labels)\n",
        "test_dataset = logDataset(test_data, labels = test_labels)\n",
        "val_dataset = logDataset(val_data, labels = val_labels)"
      ],
      "execution_count": null,
      "outputs": []
    },
    {
      "cell_type": "code",
      "metadata": {
        "colab": {
          "base_uri": "https://localhost:8080/"
        },
        "id": "zWwa2PG_-yU1",
        "outputId": "0d4528e5-9d2a-4fbf-9eb3-9202782d0843"
      },
      "source": [
        "# use DataLoader class\n",
        "train_loader = DataLoader(dataset=train_dataset, \n",
        "                          batch_size=BATCH_SIZE, \n",
        "                          num_workers=0, # couldn't use workers https://github.com/fastai/fastbook/issues/85\n",
        "                          shuffle=True)\n",
        "\n",
        "test_loader = DataLoader(dataset=test_dataset, \n",
        "                         batch_size=BATCH_SIZE,\n",
        "                         num_workers=0,\n",
        "                         shuffle=False)\n",
        "\n",
        "val_loader = DataLoader(dataset=val_dataset, \n",
        "                         batch_size=BATCH_SIZE,\n",
        "                         num_workers=0,\n",
        "                         shuffle=False)\n",
        "\n",
        "\n",
        "# Checking the dataset\n",
        "for data, labels in train_loader:  \n",
        "    print('Matrix batch dimensions:', data.shape)\n",
        "    print('Matrix label dimensions:', labels.shape)\n",
        "    break\n",
        "\n",
        "# Checking the dataset\n",
        "for data, labels in test_loader:  \n",
        "    print('Matrix batch dimensions:', data.shape)\n",
        "    print('Matrix label dimensions:', labels.shape)\n",
        "    break\n",
        "    \n",
        "# Checking the dataset\n",
        "for data, labels in val_loader:  \n",
        "    print('Matrix batch dimensions:', data.shape)\n",
        "    print('Matrix label dimensions:', labels.shape)\n",
        "    break"
      ],
      "execution_count": null,
      "outputs": [
        {
          "output_type": "stream",
          "name": "stdout",
          "text": [
            "Matrix batch dimensions: torch.Size([128, 1, 18, 48])\n",
            "Matrix label dimensions: torch.Size([128])\n",
            "Matrix batch dimensions: torch.Size([128, 1, 18, 48])\n",
            "Matrix label dimensions: torch.Size([128])\n",
            "Matrix batch dimensions: torch.Size([128, 1, 18, 48])\n",
            "Matrix label dimensions: torch.Size([128])\n"
          ]
        }
      ]
    },
    {
      "cell_type": "markdown",
      "metadata": {
        "id": "hbvFNaRk-yU2"
      },
      "source": [
        "## Setup Model"
      ]
    },
    {
      "cell_type": "code",
      "metadata": {
        "colab": {
          "base_uri": "https://localhost:8080/"
        },
        "id": "KFxoCAHg-yU2",
        "outputId": "4c731ab4-8ad8-4cb4-8acb-3a1942568c8e"
      },
      "source": [
        "# Check that the train loader works correctly\n",
        "device = torch.device(DEVICE)\n",
        "torch.manual_seed(0)\n",
        "\n",
        "for epoch in range(2):\n",
        "\n",
        "    for batch_idx, (x, y) in enumerate(train_loader):\n",
        "        \n",
        "        print('Epoch:', epoch+1, end='')\n",
        "        print(' | Batch index:', batch_idx, end='')\n",
        "        print(' | Batch size:', y.size()[0])\n",
        "        \n",
        "        x = x.to(device)\n",
        "        y = y.to(device)\n",
        "        break"
      ],
      "execution_count": null,
      "outputs": [
        {
          "output_type": "stream",
          "name": "stdout",
          "text": [
            "Epoch: 1 | Batch index: 0 | Batch size: 128\n",
            "Epoch: 2 | Batch index: 0 | Batch size: 128\n"
          ]
        }
      ]
    },
    {
      "cell_type": "code",
      "metadata": {
        "id": "doCsnPrG-yU2"
      },
      "source": [
        "##########################\n",
        "### MODEL\n",
        "##########################\n",
        "\n",
        "\n",
        "class logCNN(nn.Module):\n",
        "\n",
        "    def __init__(self, num_classes):\n",
        "        super(logCNN, self).__init__()\n",
        "        self.num_classes = num_classes\n",
        "        self.features = nn.Sequential(\n",
        "            \n",
        "            nn.Conv2d(1, 16, kernel_size=2),\n",
        "            nn.ReLU(),\n",
        "            nn.MaxPool2d(kernel_size=2),\n",
        "            nn.Conv2d(16, 32, kernel_size=2),\n",
        "            nn.ReLU(),\n",
        "            nn.MaxPool2d(kernel_size=2)\n",
        "        )\n",
        "\n",
        "        self.classifier = nn.Sequential(\n",
        "\n",
        "            nn.Linear(1056, 120),\n",
        "            nn.ReLU(),\n",
        "            nn.Linear(120, 84),\n",
        "            nn.ReLU(),\n",
        "            nn.Linear(84, num_classes),\n",
        "        )\n",
        "\n",
        "\n",
        "    def forward(self, x):\n",
        "        x = self.features(x)\n",
        "        x = torch.flatten(x, 1)\n",
        "        logits = self.classifier(x)\n",
        "        probas = F.softmax(logits, dim=1)\n",
        "        return logits, probas\n"
      ],
      "execution_count": null,
      "outputs": []
    },
    {
      "cell_type": "code",
      "metadata": {
        "id": "EZLIAStI-yU3"
      },
      "source": [
        "torch.manual_seed(RANDOM_SEED)\n",
        "\n",
        "model = logCNN(NUM_CLASSES)\n",
        "model.to(DEVICE)\n",
        "\n",
        "if torch.cuda.is_available():\n",
        "    model.cuda()\n",
        "\n",
        "optimizer = torch.optim.Adam(model.parameters(), lr=LEARNING_RATE)"
      ],
      "execution_count": null,
      "outputs": []
    },
    {
      "cell_type": "markdown",
      "metadata": {
        "id": "Dr-b4WVw-yU3"
      },
      "source": [
        "# Train Model"
      ]
    },
    {
      "cell_type": "code",
      "metadata": {
        "tags": [
          "outputPrepend"
        ],
        "colab": {
          "base_uri": "https://localhost:8080/"
        },
        "id": "SeNobFr9-yU4",
        "outputId": "adb92bba-8ff0-4a95-d7b5-ea2d6f3b5ad8"
      },
      "source": [
        "def compute_accuracy(model, data_loader, device):\n",
        "    correct_pred, num_examples = 0, 0\n",
        "    for i, (features, targets) in enumerate(data_loader):\n",
        "            \n",
        "        features = features.to(DEVICE)\n",
        "        targets = targets.to(DEVICE, dtype=torch.long) # had to pass in to torch.long based on the 1, 0 int labels\n",
        "\n",
        "        logits, probas = model(features)\n",
        "        _, predicted_labels = torch.max(probas, 1)\n",
        "        num_examples += targets.size(0)\n",
        "        correct_pred += (predicted_labels == targets).sum()\n",
        "    return correct_pred.float()/num_examples * 100\n",
        "\n",
        "# This needs to be vectorized\n",
        "def compute_f1(model, data_loader, device):\n",
        "    y_hats = []\n",
        "    y_acts = []\n",
        "    for i, (inputs, targets) in enumerate(data_loader):\n",
        "        yhat = model(inputs)[-1].cpu().detach().numpy().round()\n",
        "        # yhat = model(inputs)[-1].to(DEVICE).detach().numpy().round()\n",
        "        yhat = np.argmax(yhat, axis=1)\n",
        "        y_hats.append(yhat)\n",
        "        y_acts.append(list(targets.cpu().detach().numpy()))\n",
        "    \n",
        "    y_hats = [item for sublist in y_hats for item in sublist]\n",
        "    y_acts = [item for sublist in y_acts for item in sublist]\n",
        "    return f1_score(y_acts, y_hats)\n",
        "\n",
        "  \n",
        "\n",
        "start_time = time.time()\n",
        "minibatch_cost = []\n",
        "epoch_train_performance = []\n",
        "epoch_val_performance = []\n",
        "\n",
        "\n",
        "for epoch in range(NUM_EPOCHS):\n",
        "    \n",
        "    model.train()\n",
        "    for batch_idx, (features, targets) in enumerate(train_loader):\n",
        "        \n",
        "        features = features.to(DEVICE)\n",
        "        targets = targets.to(DEVICE, dtype=torch.long) # another had to use torch.long\n",
        "            \n",
        "        ### FORWARD AND BACK PROP\n",
        "        logits, probas = model(features)\n",
        "        \n",
        "        cost = F.cross_entropy(logits, targets)\n",
        "\n",
        "        optimizer.zero_grad()\n",
        "        \n",
        "        cost.backward()\n",
        "        minibatch_cost.append(cost)\n",
        "        \n",
        "        ### UPDATE MODEL PARAMETERS\n",
        "        optimizer.step()\n",
        "        \n",
        "        ### LOGGING\n",
        "        if not batch_idx % 50:\n",
        "            print ('Epoch: %03d/%03d | Batch %04d/%04d | Cost: %.4f' \n",
        "                   %(epoch+1, NUM_EPOCHS, batch_idx, \n",
        "                     len(train_loader), cost, ))\n",
        "\n",
        "        \n",
        "    model.eval()\n",
        "    with torch.set_grad_enabled(False): # save memory during inference\n",
        "        train_performance = compute_f1(model, train_loader, device=DEVICE)\n",
        "        val_performance = compute_f1(model, val_loader, device=DEVICE)\n",
        "        epoch_train_performance.append(train_performance)\n",
        "        epoch_val_performance.append(val_performance)\n",
        "        print('Epoch: %03d/%03d | Train: %.3f%%   | Val: %.3f%%' % (\n",
        "              epoch+1, NUM_EPOCHS, train_performance, val_performance))\n",
        "        \n",
        "    print('Time elapsed: %.2f min' % ((time.time() - start_time)/60))\n",
        "    \n",
        "print('Total Training Time: %.2f min' % ((time.time() - start_time)/60))"
      ],
      "execution_count": null,
      "outputs": [
        {
          "output_type": "stream",
          "name": "stdout",
          "text": [
            "Epoch: 001/010 | Batch 0000/2466 | Cost: 0.7391\n",
            "Epoch: 001/010 | Batch 0050/2466 | Cost: 0.0245\n",
            "Epoch: 001/010 | Batch 0100/2466 | Cost: 0.0055\n",
            "Epoch: 001/010 | Batch 0150/2466 | Cost: 0.0801\n",
            "Epoch: 001/010 | Batch 0200/2466 | Cost: 0.0011\n",
            "Epoch: 001/010 | Batch 0250/2466 | Cost: 0.0002\n",
            "Epoch: 001/010 | Batch 0300/2466 | Cost: 0.0042\n",
            "Epoch: 001/010 | Batch 0350/2466 | Cost: 0.0002\n",
            "Epoch: 001/010 | Batch 0400/2466 | Cost: 0.0022\n",
            "Epoch: 001/010 | Batch 0450/2466 | Cost: 0.0059\n",
            "Epoch: 001/010 | Batch 0500/2466 | Cost: 0.0003\n",
            "Epoch: 001/010 | Batch 0550/2466 | Cost: 0.0003\n",
            "Epoch: 001/010 | Batch 0600/2466 | Cost: 0.0005\n",
            "Epoch: 001/010 | Batch 0650/2466 | Cost: 0.0001\n",
            "Epoch: 001/010 | Batch 0700/2466 | Cost: 0.0012\n",
            "Epoch: 001/010 | Batch 0750/2466 | Cost: 0.0003\n",
            "Epoch: 001/010 | Batch 0800/2466 | Cost: 0.0244\n",
            "Epoch: 001/010 | Batch 0850/2466 | Cost: 0.0022\n",
            "Epoch: 001/010 | Batch 0900/2466 | Cost: 0.0008\n",
            "Epoch: 001/010 | Batch 0950/2466 | Cost: 0.0024\n",
            "Epoch: 001/010 | Batch 1000/2466 | Cost: 0.0007\n",
            "Epoch: 001/010 | Batch 1050/2466 | Cost: 0.0033\n",
            "Epoch: 001/010 | Batch 1100/2466 | Cost: 0.0001\n",
            "Epoch: 001/010 | Batch 1150/2466 | Cost: 0.0045\n",
            "Epoch: 001/010 | Batch 1200/2466 | Cost: 0.0011\n",
            "Epoch: 001/010 | Batch 1250/2466 | Cost: 0.0009\n",
            "Epoch: 001/010 | Batch 1300/2466 | Cost: 0.0000\n",
            "Epoch: 001/010 | Batch 1350/2466 | Cost: 0.0020\n",
            "Epoch: 001/010 | Batch 1400/2466 | Cost: 0.0004\n",
            "Epoch: 001/010 | Batch 1450/2466 | Cost: 0.0110\n",
            "Epoch: 001/010 | Batch 1500/2466 | Cost: 0.0006\n",
            "Epoch: 001/010 | Batch 1550/2466 | Cost: 0.0012\n",
            "Epoch: 001/010 | Batch 1600/2466 | Cost: 0.0000\n",
            "Epoch: 001/010 | Batch 1650/2466 | Cost: 0.0001\n",
            "Epoch: 001/010 | Batch 1700/2466 | Cost: 0.0563\n",
            "Epoch: 001/010 | Batch 1750/2466 | Cost: 0.0012\n",
            "Epoch: 001/010 | Batch 1800/2466 | Cost: 0.0002\n",
            "Epoch: 001/010 | Batch 1850/2466 | Cost: 0.0003\n",
            "Epoch: 001/010 | Batch 1900/2466 | Cost: 0.0002\n",
            "Epoch: 001/010 | Batch 1950/2466 | Cost: 0.0004\n",
            "Epoch: 001/010 | Batch 2000/2466 | Cost: 0.0018\n",
            "Epoch: 001/010 | Batch 2050/2466 | Cost: 0.0000\n",
            "Epoch: 001/010 | Batch 2100/2466 | Cost: 0.0001\n",
            "Epoch: 001/010 | Batch 2150/2466 | Cost: 0.0001\n",
            "Epoch: 001/010 | Batch 2200/2466 | Cost: 0.0001\n",
            "Epoch: 001/010 | Batch 2250/2466 | Cost: 0.0007\n",
            "Epoch: 001/010 | Batch 2300/2466 | Cost: 0.0012\n",
            "Epoch: 001/010 | Batch 2350/2466 | Cost: 0.0004\n",
            "Epoch: 001/010 | Batch 2400/2466 | Cost: 0.0040\n",
            "Epoch: 001/010 | Batch 2450/2466 | Cost: 0.0002\n",
            "Epoch: 001/010 | Train: 0.990%   | Val: 0.991%\n",
            "Time elapsed: 2.85 min\n",
            "Epoch: 002/010 | Batch 0000/2466 | Cost: 0.0000\n",
            "Epoch: 002/010 | Batch 0050/2466 | Cost: 0.0002\n",
            "Epoch: 002/010 | Batch 0100/2466 | Cost: 0.0003\n",
            "Epoch: 002/010 | Batch 0150/2466 | Cost: 0.0003\n",
            "Epoch: 002/010 | Batch 0200/2466 | Cost: 0.0000\n",
            "Epoch: 002/010 | Batch 0250/2466 | Cost: 0.0000\n",
            "Epoch: 002/010 | Batch 0300/2466 | Cost: 0.0002\n",
            "Epoch: 002/010 | Batch 0350/2466 | Cost: 0.0009\n",
            "Epoch: 002/010 | Batch 0400/2466 | Cost: 0.0000\n",
            "Epoch: 002/010 | Batch 0450/2466 | Cost: 0.0002\n",
            "Epoch: 002/010 | Batch 0500/2466 | Cost: 0.0002\n",
            "Epoch: 002/010 | Batch 0550/2466 | Cost: 0.0001\n",
            "Epoch: 002/010 | Batch 0600/2466 | Cost: 0.0006\n",
            "Epoch: 002/010 | Batch 0650/2466 | Cost: 0.0021\n",
            "Epoch: 002/010 | Batch 0700/2466 | Cost: 0.0002\n",
            "Epoch: 002/010 | Batch 0750/2466 | Cost: 0.0004\n",
            "Epoch: 002/010 | Batch 0800/2466 | Cost: 0.0000\n",
            "Epoch: 002/010 | Batch 0850/2466 | Cost: 0.0000\n",
            "Epoch: 002/010 | Batch 0900/2466 | Cost: 0.0002\n",
            "Epoch: 002/010 | Batch 0950/2466 | Cost: 0.0004\n",
            "Epoch: 002/010 | Batch 1000/2466 | Cost: 0.0001\n",
            "Epoch: 002/010 | Batch 1050/2466 | Cost: 0.0001\n",
            "Epoch: 002/010 | Batch 1100/2466 | Cost: 0.0001\n",
            "Epoch: 002/010 | Batch 1150/2466 | Cost: 0.0003\n",
            "Epoch: 002/010 | Batch 1200/2466 | Cost: 0.0600\n",
            "Epoch: 002/010 | Batch 1250/2466 | Cost: 0.0024\n",
            "Epoch: 002/010 | Batch 1300/2466 | Cost: 0.0003\n",
            "Epoch: 002/010 | Batch 1350/2466 | Cost: 0.0298\n",
            "Epoch: 002/010 | Batch 1400/2466 | Cost: 0.0006\n",
            "Epoch: 002/010 | Batch 1450/2466 | Cost: 0.0013\n",
            "Epoch: 002/010 | Batch 1500/2466 | Cost: 0.0002\n",
            "Epoch: 002/010 | Batch 1550/2466 | Cost: 0.0002\n",
            "Epoch: 002/010 | Batch 1600/2466 | Cost: 0.0003\n",
            "Epoch: 002/010 | Batch 1650/2466 | Cost: 0.0000\n",
            "Epoch: 002/010 | Batch 1700/2466 | Cost: 0.0004\n",
            "Epoch: 002/010 | Batch 1750/2466 | Cost: 0.0023\n",
            "Epoch: 002/010 | Batch 1800/2466 | Cost: 0.0000\n",
            "Epoch: 002/010 | Batch 1850/2466 | Cost: 0.0002\n",
            "Epoch: 002/010 | Batch 1900/2466 | Cost: 0.0004\n",
            "Epoch: 002/010 | Batch 1950/2466 | Cost: 0.0000\n",
            "Epoch: 002/010 | Batch 2000/2466 | Cost: 0.0001\n",
            "Epoch: 002/010 | Batch 2050/2466 | Cost: 0.0002\n",
            "Epoch: 002/010 | Batch 2100/2466 | Cost: 0.0002\n",
            "Epoch: 002/010 | Batch 2150/2466 | Cost: 0.0042\n",
            "Epoch: 002/010 | Batch 2200/2466 | Cost: 0.0004\n",
            "Epoch: 002/010 | Batch 2250/2466 | Cost: 0.0006\n",
            "Epoch: 002/010 | Batch 2300/2466 | Cost: 0.0001\n",
            "Epoch: 002/010 | Batch 2350/2466 | Cost: 0.0001\n",
            "Epoch: 002/010 | Batch 2400/2466 | Cost: 0.0000\n",
            "Epoch: 002/010 | Batch 2450/2466 | Cost: 0.0002\n",
            "Epoch: 002/010 | Train: 0.993%   | Val: 0.993%\n",
            "Time elapsed: 5.77 min\n",
            "Epoch: 003/010 | Batch 0000/2466 | Cost: 0.0004\n",
            "Epoch: 003/010 | Batch 0050/2466 | Cost: 0.0009\n",
            "Epoch: 003/010 | Batch 0100/2466 | Cost: 0.0000\n",
            "Epoch: 003/010 | Batch 0150/2466 | Cost: 0.0333\n",
            "Epoch: 003/010 | Batch 0200/2466 | Cost: 0.0006\n",
            "Epoch: 003/010 | Batch 0250/2466 | Cost: 0.0001\n",
            "Epoch: 003/010 | Batch 0300/2466 | Cost: 0.0000\n",
            "Epoch: 003/010 | Batch 0350/2466 | Cost: 0.0000\n",
            "Epoch: 003/010 | Batch 0400/2466 | Cost: 0.0001\n",
            "Epoch: 003/010 | Batch 0450/2466 | Cost: 0.0028\n",
            "Epoch: 003/010 | Batch 0500/2466 | Cost: 0.0007\n",
            "Epoch: 003/010 | Batch 0550/2466 | Cost: 0.0006\n",
            "Epoch: 003/010 | Batch 0600/2466 | Cost: 0.0000\n",
            "Epoch: 003/010 | Batch 0650/2466 | Cost: 0.0003\n",
            "Epoch: 003/010 | Batch 0700/2466 | Cost: 0.0000\n",
            "Epoch: 003/010 | Batch 0750/2466 | Cost: 0.0001\n",
            "Epoch: 003/010 | Batch 0800/2466 | Cost: 0.0001\n",
            "Epoch: 003/010 | Batch 0850/2466 | Cost: 0.0003\n",
            "Epoch: 003/010 | Batch 0900/2466 | Cost: 0.0010\n",
            "Epoch: 003/010 | Batch 0950/2466 | Cost: 0.0019\n",
            "Epoch: 003/010 | Batch 1000/2466 | Cost: 0.0291\n",
            "Epoch: 003/010 | Batch 1050/2466 | Cost: 0.0002\n",
            "Epoch: 003/010 | Batch 1100/2466 | Cost: 0.0002\n",
            "Epoch: 003/010 | Batch 1150/2466 | Cost: 0.0001\n",
            "Epoch: 003/010 | Batch 1200/2466 | Cost: 0.0024\n",
            "Epoch: 003/010 | Batch 1250/2466 | Cost: 0.0001\n",
            "Epoch: 003/010 | Batch 1300/2466 | Cost: 0.0001\n",
            "Epoch: 003/010 | Batch 1350/2466 | Cost: 0.0000\n",
            "Epoch: 003/010 | Batch 1400/2466 | Cost: 0.0000\n",
            "Epoch: 003/010 | Batch 1450/2466 | Cost: 0.0033\n",
            "Epoch: 003/010 | Batch 1500/2466 | Cost: 0.0002\n",
            "Epoch: 003/010 | Batch 1550/2466 | Cost: 0.0000\n",
            "Epoch: 003/010 | Batch 1600/2466 | Cost: 0.0003\n",
            "Epoch: 003/010 | Batch 1650/2466 | Cost: 0.0000\n",
            "Epoch: 003/010 | Batch 1700/2466 | Cost: 0.0001\n",
            "Epoch: 003/010 | Batch 1750/2466 | Cost: 0.0000\n",
            "Epoch: 003/010 | Batch 1800/2466 | Cost: 0.0017\n",
            "Epoch: 003/010 | Batch 1850/2466 | Cost: 0.0001\n",
            "Epoch: 003/010 | Batch 1900/2466 | Cost: 0.0038\n",
            "Epoch: 003/010 | Batch 1950/2466 | Cost: 0.0002\n",
            "Epoch: 003/010 | Batch 2000/2466 | Cost: 0.0005\n",
            "Epoch: 003/010 | Batch 2050/2466 | Cost: 0.0016\n",
            "Epoch: 003/010 | Batch 2100/2466 | Cost: 0.0022\n",
            "Epoch: 003/010 | Batch 2150/2466 | Cost: 0.0001\n",
            "Epoch: 003/010 | Batch 2200/2466 | Cost: 0.0000\n",
            "Epoch: 003/010 | Batch 2250/2466 | Cost: 0.0000\n",
            "Epoch: 003/010 | Batch 2300/2466 | Cost: 0.0012\n",
            "Epoch: 003/010 | Batch 2350/2466 | Cost: 0.0000\n",
            "Epoch: 003/010 | Batch 2400/2466 | Cost: 0.0007\n",
            "Epoch: 003/010 | Batch 2450/2466 | Cost: 0.0003\n",
            "Epoch: 003/010 | Train: 0.994%   | Val: 0.995%\n",
            "Time elapsed: 8.80 min\n",
            "Epoch: 004/010 | Batch 0000/2466 | Cost: 0.0000\n",
            "Epoch: 004/010 | Batch 0050/2466 | Cost: 0.0000\n",
            "Epoch: 004/010 | Batch 0100/2466 | Cost: 0.0000\n",
            "Epoch: 004/010 | Batch 0150/2466 | Cost: 0.0001\n",
            "Epoch: 004/010 | Batch 0200/2466 | Cost: 0.0015\n",
            "Epoch: 004/010 | Batch 0250/2466 | Cost: 0.0000\n",
            "Epoch: 004/010 | Batch 0300/2466 | Cost: 0.0037\n",
            "Epoch: 004/010 | Batch 0350/2466 | Cost: 0.0000\n",
            "Epoch: 004/010 | Batch 0400/2466 | Cost: 0.0000\n",
            "Epoch: 004/010 | Batch 0450/2466 | Cost: 0.0002\n",
            "Epoch: 004/010 | Batch 0500/2466 | Cost: 0.0000\n",
            "Epoch: 004/010 | Batch 0550/2466 | Cost: 0.0000\n",
            "Epoch: 004/010 | Batch 0600/2466 | Cost: 0.0004\n",
            "Epoch: 004/010 | Batch 0650/2466 | Cost: 0.0007\n",
            "Epoch: 004/010 | Batch 0700/2466 | Cost: 0.0005\n",
            "Epoch: 004/010 | Batch 0750/2466 | Cost: 0.0005\n",
            "Epoch: 004/010 | Batch 0800/2466 | Cost: 0.0001\n",
            "Epoch: 004/010 | Batch 0850/2466 | Cost: 0.0001\n",
            "Epoch: 004/010 | Batch 0900/2466 | Cost: 0.0000\n",
            "Epoch: 004/010 | Batch 0950/2466 | Cost: 0.0011\n",
            "Epoch: 004/010 | Batch 1000/2466 | Cost: 0.0003\n",
            "Epoch: 004/010 | Batch 1050/2466 | Cost: 0.0000\n",
            "Epoch: 004/010 | Batch 1100/2466 | Cost: 0.0000\n",
            "Epoch: 004/010 | Batch 1150/2466 | Cost: 0.0000\n",
            "Epoch: 004/010 | Batch 1200/2466 | Cost: 0.0001\n",
            "Epoch: 004/010 | Batch 1250/2466 | Cost: 0.0000\n",
            "Epoch: 004/010 | Batch 1300/2466 | Cost: 0.0002\n",
            "Epoch: 004/010 | Batch 1350/2466 | Cost: 0.0021\n",
            "Epoch: 004/010 | Batch 1400/2466 | Cost: 0.0005\n",
            "Epoch: 004/010 | Batch 1450/2466 | Cost: 0.0000\n",
            "Epoch: 004/010 | Batch 1500/2466 | Cost: 0.0000\n",
            "Epoch: 004/010 | Batch 1550/2466 | Cost: 0.0000\n",
            "Epoch: 004/010 | Batch 1600/2466 | Cost: 0.0004\n",
            "Epoch: 004/010 | Batch 1650/2466 | Cost: 0.0017\n",
            "Epoch: 004/010 | Batch 1700/2466 | Cost: 0.0002\n",
            "Epoch: 004/010 | Batch 1750/2466 | Cost: 0.0000\n",
            "Epoch: 004/010 | Batch 1800/2466 | Cost: 0.0017\n",
            "Epoch: 004/010 | Batch 1850/2466 | Cost: 0.0000\n",
            "Epoch: 004/010 | Batch 1900/2466 | Cost: 0.0000\n",
            "Epoch: 004/010 | Batch 1950/2466 | Cost: 0.0001\n",
            "Epoch: 004/010 | Batch 2000/2466 | Cost: 0.0001\n",
            "Epoch: 004/010 | Batch 2050/2466 | Cost: 0.0025\n",
            "Epoch: 004/010 | Batch 2100/2466 | Cost: 0.0000\n",
            "Epoch: 004/010 | Batch 2150/2466 | Cost: 0.0002\n",
            "Epoch: 004/010 | Batch 2200/2466 | Cost: 0.0000\n",
            "Epoch: 004/010 | Batch 2250/2466 | Cost: 0.0001\n",
            "Epoch: 004/010 | Batch 2300/2466 | Cost: 0.0001\n",
            "Epoch: 004/010 | Batch 2350/2466 | Cost: 0.0001\n",
            "Epoch: 004/010 | Batch 2400/2466 | Cost: 0.0000\n",
            "Epoch: 004/010 | Batch 2450/2466 | Cost: 0.0034\n",
            "Epoch: 004/010 | Train: 0.994%   | Val: 0.996%\n",
            "Time elapsed: 11.78 min\n",
            "Epoch: 005/010 | Batch 0000/2466 | Cost: 0.0000\n",
            "Epoch: 005/010 | Batch 0050/2466 | Cost: 0.0000\n",
            "Epoch: 005/010 | Batch 0100/2466 | Cost: 0.0000\n",
            "Epoch: 005/010 | Batch 0150/2466 | Cost: 0.0000\n",
            "Epoch: 005/010 | Batch 0200/2466 | Cost: 0.0000\n",
            "Epoch: 005/010 | Batch 0250/2466 | Cost: 0.0000\n",
            "Epoch: 005/010 | Batch 0300/2466 | Cost: 0.0000\n",
            "Epoch: 005/010 | Batch 0350/2466 | Cost: 0.0000\n",
            "Epoch: 005/010 | Batch 0400/2466 | Cost: 0.0017\n",
            "Epoch: 005/010 | Batch 0450/2466 | Cost: 0.0010\n",
            "Epoch: 005/010 | Batch 0500/2466 | Cost: 0.0000\n",
            "Epoch: 005/010 | Batch 0550/2466 | Cost: 0.0000\n",
            "Epoch: 005/010 | Batch 0600/2466 | Cost: 0.0000\n",
            "Epoch: 005/010 | Batch 0650/2466 | Cost: 0.0000\n",
            "Epoch: 005/010 | Batch 0700/2466 | Cost: 0.0000\n",
            "Epoch: 005/010 | Batch 0750/2466 | Cost: 0.0004\n",
            "Epoch: 005/010 | Batch 0800/2466 | Cost: 0.0001\n",
            "Epoch: 005/010 | Batch 0850/2466 | Cost: 0.0000\n",
            "Epoch: 005/010 | Batch 0900/2466 | Cost: 0.0000\n",
            "Epoch: 005/010 | Batch 0950/2466 | Cost: 0.0000\n",
            "Epoch: 005/010 | Batch 1000/2466 | Cost: 0.0004\n",
            "Epoch: 005/010 | Batch 1050/2466 | Cost: 0.0001\n",
            "Epoch: 005/010 | Batch 1100/2466 | Cost: 0.0006\n",
            "Epoch: 005/010 | Batch 1150/2466 | Cost: 0.0007\n",
            "Epoch: 005/010 | Batch 1200/2466 | Cost: 0.0001\n",
            "Epoch: 005/010 | Batch 1250/2466 | Cost: 0.0007\n",
            "Epoch: 005/010 | Batch 1300/2466 | Cost: 0.0000\n",
            "Epoch: 005/010 | Batch 1350/2466 | Cost: 0.0001\n",
            "Epoch: 005/010 | Batch 1400/2466 | Cost: 0.0000\n",
            "Epoch: 005/010 | Batch 1450/2466 | Cost: 0.0009\n",
            "Epoch: 005/010 | Batch 1500/2466 | Cost: 0.0000\n",
            "Epoch: 005/010 | Batch 1550/2466 | Cost: 0.0000\n",
            "Epoch: 005/010 | Batch 1600/2466 | Cost: 0.0001\n",
            "Epoch: 005/010 | Batch 1650/2466 | Cost: 0.0004\n",
            "Epoch: 005/010 | Batch 1700/2466 | Cost: 0.0000\n",
            "Epoch: 005/010 | Batch 1750/2466 | Cost: 0.0000\n",
            "Epoch: 005/010 | Batch 1800/2466 | Cost: 0.0038\n",
            "Epoch: 005/010 | Batch 1850/2466 | Cost: 0.0001\n",
            "Epoch: 005/010 | Batch 1900/2466 | Cost: 0.0181\n",
            "Epoch: 005/010 | Batch 1950/2466 | Cost: 0.0000\n",
            "Epoch: 005/010 | Batch 2000/2466 | Cost: 0.0011\n",
            "Epoch: 005/010 | Batch 2050/2466 | Cost: 0.0000\n",
            "Epoch: 005/010 | Batch 2100/2466 | Cost: 0.0000\n",
            "Epoch: 005/010 | Batch 2150/2466 | Cost: 0.0001\n",
            "Epoch: 005/010 | Batch 2200/2466 | Cost: 0.0000\n",
            "Epoch: 005/010 | Batch 2250/2466 | Cost: 0.0005\n",
            "Epoch: 005/010 | Batch 2300/2466 | Cost: 0.0000\n",
            "Epoch: 005/010 | Batch 2350/2466 | Cost: 0.0000\n",
            "Epoch: 005/010 | Batch 2400/2466 | Cost: 0.0000\n",
            "Epoch: 005/010 | Batch 2450/2466 | Cost: 0.0002\n",
            "Epoch: 005/010 | Train: 0.995%   | Val: 0.997%\n",
            "Time elapsed: 14.90 min\n",
            "Epoch: 006/010 | Batch 0000/2466 | Cost: 0.0003\n",
            "Epoch: 006/010 | Batch 0050/2466 | Cost: 0.0000\n",
            "Epoch: 006/010 | Batch 0100/2466 | Cost: 0.0000\n",
            "Epoch: 006/010 | Batch 0150/2466 | Cost: 0.0003\n",
            "Epoch: 006/010 | Batch 0200/2466 | Cost: 0.0000\n",
            "Epoch: 006/010 | Batch 0250/2466 | Cost: 0.0000\n",
            "Epoch: 006/010 | Batch 0300/2466 | Cost: 0.0001\n",
            "Epoch: 006/010 | Batch 0350/2466 | Cost: 0.0005\n",
            "Epoch: 006/010 | Batch 0400/2466 | Cost: 0.0000\n",
            "Epoch: 006/010 | Batch 0450/2466 | Cost: 0.0000\n",
            "Epoch: 006/010 | Batch 0500/2466 | Cost: 0.0000\n",
            "Epoch: 006/010 | Batch 0550/2466 | Cost: 0.0000\n",
            "Epoch: 006/010 | Batch 0600/2466 | Cost: 0.0000\n",
            "Epoch: 006/010 | Batch 0650/2466 | Cost: 0.0029\n",
            "Epoch: 006/010 | Batch 0700/2466 | Cost: 0.0004\n",
            "Epoch: 006/010 | Batch 0750/2466 | Cost: 0.0005\n",
            "Epoch: 006/010 | Batch 0800/2466 | Cost: 0.0005\n",
            "Epoch: 006/010 | Batch 0850/2466 | Cost: 0.0000\n",
            "Epoch: 006/010 | Batch 0900/2466 | Cost: 0.0000\n",
            "Epoch: 006/010 | Batch 0950/2466 | Cost: 0.0000\n",
            "Epoch: 006/010 | Batch 1000/2466 | Cost: 0.0000\n",
            "Epoch: 006/010 | Batch 1050/2466 | Cost: 0.0000\n",
            "Epoch: 006/010 | Batch 1100/2466 | Cost: 0.0209\n",
            "Epoch: 006/010 | Batch 1150/2466 | Cost: 0.0000\n",
            "Epoch: 006/010 | Batch 1200/2466 | Cost: 0.0001\n",
            "Epoch: 006/010 | Batch 1250/2466 | Cost: 0.0014\n",
            "Epoch: 006/010 | Batch 1300/2466 | Cost: 0.0000\n",
            "Epoch: 006/010 | Batch 1350/2466 | Cost: 0.0000\n",
            "Epoch: 006/010 | Batch 1400/2466 | Cost: 0.0023\n",
            "Epoch: 006/010 | Batch 1450/2466 | Cost: 0.0000\n",
            "Epoch: 006/010 | Batch 1500/2466 | Cost: 0.0000\n",
            "Epoch: 006/010 | Batch 1550/2466 | Cost: 0.0000\n",
            "Epoch: 006/010 | Batch 1600/2466 | Cost: 0.0000\n",
            "Epoch: 006/010 | Batch 1650/2466 | Cost: 0.0024\n",
            "Epoch: 006/010 | Batch 1700/2466 | Cost: 0.0000\n",
            "Epoch: 006/010 | Batch 1750/2466 | Cost: 0.0009\n",
            "Epoch: 006/010 | Batch 1800/2466 | Cost: 0.0002\n",
            "Epoch: 006/010 | Batch 1850/2466 | Cost: 0.0004\n",
            "Epoch: 006/010 | Batch 1900/2466 | Cost: 0.0000\n",
            "Epoch: 006/010 | Batch 1950/2466 | Cost: 0.0000\n",
            "Epoch: 006/010 | Batch 2000/2466 | Cost: 0.0242\n",
            "Epoch: 006/010 | Batch 2050/2466 | Cost: 0.0000\n",
            "Epoch: 006/010 | Batch 2100/2466 | Cost: 0.0000\n",
            "Epoch: 006/010 | Batch 2150/2466 | Cost: 0.0001\n",
            "Epoch: 006/010 | Batch 2200/2466 | Cost: 0.0003\n",
            "Epoch: 006/010 | Batch 2250/2466 | Cost: 0.0001\n",
            "Epoch: 006/010 | Batch 2300/2466 | Cost: 0.0000\n",
            "Epoch: 006/010 | Batch 2350/2466 | Cost: 0.0000\n",
            "Epoch: 006/010 | Batch 2400/2466 | Cost: 0.0017\n",
            "Epoch: 006/010 | Batch 2450/2466 | Cost: 0.0002\n",
            "Epoch: 006/010 | Train: 0.996%   | Val: 0.997%\n",
            "Time elapsed: 18.72 min\n",
            "Epoch: 007/010 | Batch 0000/2466 | Cost: 0.0005\n",
            "Epoch: 007/010 | Batch 0050/2466 | Cost: 0.0000\n",
            "Epoch: 007/010 | Batch 0100/2466 | Cost: 0.0000\n",
            "Epoch: 007/010 | Batch 0150/2466 | Cost: 0.0000\n",
            "Epoch: 007/010 | Batch 0200/2466 | Cost: 0.0000\n",
            "Epoch: 007/010 | Batch 0250/2466 | Cost: 0.0002\n",
            "Epoch: 007/010 | Batch 0300/2466 | Cost: 0.0000\n",
            "Epoch: 007/010 | Batch 0350/2466 | Cost: 0.0000\n",
            "Epoch: 007/010 | Batch 0400/2466 | Cost: 0.0000\n",
            "Epoch: 007/010 | Batch 0450/2466 | Cost: 0.0012\n",
            "Epoch: 007/010 | Batch 0500/2466 | Cost: 0.0007\n",
            "Epoch: 007/010 | Batch 0550/2466 | Cost: 0.0001\n",
            "Epoch: 007/010 | Batch 0600/2466 | Cost: 0.0000\n",
            "Epoch: 007/010 | Batch 0650/2466 | Cost: 0.0001\n",
            "Epoch: 007/010 | Batch 0700/2466 | Cost: 0.0000\n",
            "Epoch: 007/010 | Batch 0750/2466 | Cost: 0.0005\n",
            "Epoch: 007/010 | Batch 0800/2466 | Cost: 0.0001\n",
            "Epoch: 007/010 | Batch 0850/2466 | Cost: 0.0000\n",
            "Epoch: 007/010 | Batch 0900/2466 | Cost: 0.0000\n",
            "Epoch: 007/010 | Batch 0950/2466 | Cost: 0.0007\n",
            "Epoch: 007/010 | Batch 1000/2466 | Cost: 0.0000\n",
            "Epoch: 007/010 | Batch 1050/2466 | Cost: 0.0011\n",
            "Epoch: 007/010 | Batch 1100/2466 | Cost: 0.0008\n",
            "Epoch: 007/010 | Batch 1150/2466 | Cost: 0.0000\n",
            "Epoch: 007/010 | Batch 1200/2466 | Cost: 0.0000\n",
            "Epoch: 007/010 | Batch 1250/2466 | Cost: 0.0000\n",
            "Epoch: 007/010 | Batch 1300/2466 | Cost: 0.0001\n",
            "Epoch: 007/010 | Batch 1350/2466 | Cost: 0.0002\n",
            "Epoch: 007/010 | Batch 1400/2466 | Cost: 0.0000\n",
            "Epoch: 007/010 | Batch 1450/2466 | Cost: 0.0000\n",
            "Epoch: 007/010 | Batch 1500/2466 | Cost: 0.0000\n",
            "Epoch: 007/010 | Batch 1550/2466 | Cost: 0.0000\n",
            "Epoch: 007/010 | Batch 1600/2466 | Cost: 0.0000\n",
            "Epoch: 007/010 | Batch 1650/2466 | Cost: 0.0000\n",
            "Epoch: 007/010 | Batch 1700/2466 | Cost: 0.0000\n",
            "Epoch: 007/010 | Batch 1750/2466 | Cost: 0.0004\n",
            "Epoch: 007/010 | Batch 1800/2466 | Cost: 0.0000\n",
            "Epoch: 007/010 | Batch 1850/2466 | Cost: 0.0000\n",
            "Epoch: 007/010 | Batch 1900/2466 | Cost: 0.0001\n",
            "Epoch: 007/010 | Batch 1950/2466 | Cost: 0.0000\n",
            "Epoch: 007/010 | Batch 2000/2466 | Cost: 0.0006\n",
            "Epoch: 007/010 | Batch 2050/2466 | Cost: 0.0001\n",
            "Epoch: 007/010 | Batch 2100/2466 | Cost: 0.0010\n",
            "Epoch: 007/010 | Batch 2150/2466 | Cost: 0.0000\n",
            "Epoch: 007/010 | Batch 2200/2466 | Cost: 0.0097\n",
            "Epoch: 007/010 | Batch 2250/2466 | Cost: 0.0016\n",
            "Epoch: 007/010 | Batch 2300/2466 | Cost: 0.0000\n",
            "Epoch: 007/010 | Batch 2350/2466 | Cost: 0.0123\n",
            "Epoch: 007/010 | Batch 2400/2466 | Cost: 0.0005\n",
            "Epoch: 007/010 | Batch 2450/2466 | Cost: 0.0000\n",
            "Epoch: 007/010 | Train: 0.995%   | Val: 0.997%\n",
            "Time elapsed: 22.41 min\n",
            "Epoch: 008/010 | Batch 0000/2466 | Cost: 0.0003\n",
            "Epoch: 008/010 | Batch 0050/2466 | Cost: 0.0001\n",
            "Epoch: 008/010 | Batch 0100/2466 | Cost: 0.0000\n",
            "Epoch: 008/010 | Batch 0150/2466 | Cost: 0.0011\n",
            "Epoch: 008/010 | Batch 0200/2466 | Cost: 0.0001\n",
            "Epoch: 008/010 | Batch 0250/2466 | Cost: 0.0012\n",
            "Epoch: 008/010 | Batch 0300/2466 | Cost: 0.0006\n",
            "Epoch: 008/010 | Batch 0350/2466 | Cost: 0.0003\n",
            "Epoch: 008/010 | Batch 0400/2466 | Cost: 0.0004\n",
            "Epoch: 008/010 | Batch 0450/2466 | Cost: 0.0000\n",
            "Epoch: 008/010 | Batch 0500/2466 | Cost: 0.0001\n",
            "Epoch: 008/010 | Batch 0550/2466 | Cost: 0.0001\n",
            "Epoch: 008/010 | Batch 0600/2466 | Cost: 0.0000\n",
            "Epoch: 008/010 | Batch 0650/2466 | Cost: 0.0000\n",
            "Epoch: 008/010 | Batch 0700/2466 | Cost: 0.0000\n",
            "Epoch: 008/010 | Batch 0750/2466 | Cost: 0.0000\n",
            "Epoch: 008/010 | Batch 0800/2466 | Cost: 0.0000\n",
            "Epoch: 008/010 | Batch 0850/2466 | Cost: 0.0000\n",
            "Epoch: 008/010 | Batch 0900/2466 | Cost: 0.0026\n",
            "Epoch: 008/010 | Batch 0950/2466 | Cost: 0.0000\n",
            "Epoch: 008/010 | Batch 1000/2466 | Cost: 0.0000\n",
            "Epoch: 008/010 | Batch 1050/2466 | Cost: 0.0010\n",
            "Epoch: 008/010 | Batch 1100/2466 | Cost: 0.0000\n",
            "Epoch: 008/010 | Batch 1150/2466 | Cost: 0.0000\n",
            "Epoch: 008/010 | Batch 1200/2466 | Cost: 0.0000\n",
            "Epoch: 008/010 | Batch 1250/2466 | Cost: 0.0000\n",
            "Epoch: 008/010 | Batch 1300/2466 | Cost: 0.0004\n",
            "Epoch: 008/010 | Batch 1350/2466 | Cost: 0.0000\n",
            "Epoch: 008/010 | Batch 1400/2466 | Cost: 0.0000\n",
            "Epoch: 008/010 | Batch 1450/2466 | Cost: 0.0000\n",
            "Epoch: 008/010 | Batch 1500/2466 | Cost: 0.0000\n",
            "Epoch: 008/010 | Batch 1550/2466 | Cost: 0.0003\n",
            "Epoch: 008/010 | Batch 1600/2466 | Cost: 0.0000\n",
            "Epoch: 008/010 | Batch 1650/2466 | Cost: 0.0000\n",
            "Epoch: 008/010 | Batch 1700/2466 | Cost: 0.0140\n",
            "Epoch: 008/010 | Batch 1750/2466 | Cost: 0.0000\n",
            "Epoch: 008/010 | Batch 1800/2466 | Cost: 0.0000\n",
            "Epoch: 008/010 | Batch 1850/2466 | Cost: 0.0000\n",
            "Epoch: 008/010 | Batch 1900/2466 | Cost: 0.0001\n",
            "Epoch: 008/010 | Batch 1950/2466 | Cost: 0.0004\n",
            "Epoch: 008/010 | Batch 2000/2466 | Cost: 0.0000\n",
            "Epoch: 008/010 | Batch 2050/2466 | Cost: 0.0000\n",
            "Epoch: 008/010 | Batch 2100/2466 | Cost: 0.0000\n",
            "Epoch: 008/010 | Batch 2150/2466 | Cost: 0.0001\n",
            "Epoch: 008/010 | Batch 2200/2466 | Cost: 0.0009\n",
            "Epoch: 008/010 | Batch 2250/2466 | Cost: 0.0001\n",
            "Epoch: 008/010 | Batch 2300/2466 | Cost: 0.0001\n",
            "Epoch: 008/010 | Batch 2350/2466 | Cost: 0.0002\n",
            "Epoch: 008/010 | Batch 2400/2466 | Cost: 0.0000\n",
            "Epoch: 008/010 | Batch 2450/2466 | Cost: 0.0000\n",
            "Epoch: 008/010 | Train: 0.996%   | Val: 0.997%\n",
            "Time elapsed: 26.15 min\n",
            "Epoch: 009/010 | Batch 0000/2466 | Cost: 0.0000\n",
            "Epoch: 009/010 | Batch 0050/2466 | Cost: 0.0010\n",
            "Epoch: 009/010 | Batch 0100/2466 | Cost: 0.0000\n",
            "Epoch: 009/010 | Batch 0150/2466 | Cost: 0.0000\n",
            "Epoch: 009/010 | Batch 0200/2466 | Cost: 0.0000\n",
            "Epoch: 009/010 | Batch 0250/2466 | Cost: 0.0000\n",
            "Epoch: 009/010 | Batch 0300/2466 | Cost: 0.0007\n",
            "Epoch: 009/010 | Batch 0350/2466 | Cost: 0.0001\n",
            "Epoch: 009/010 | Batch 0400/2466 | Cost: 0.0000\n",
            "Epoch: 009/010 | Batch 0450/2466 | Cost: 0.0007\n",
            "Epoch: 009/010 | Batch 0500/2466 | Cost: 0.0000\n",
            "Epoch: 009/010 | Batch 0550/2466 | Cost: 0.0000\n",
            "Epoch: 009/010 | Batch 0600/2466 | Cost: 0.0000\n",
            "Epoch: 009/010 | Batch 0650/2466 | Cost: 0.0000\n",
            "Epoch: 009/010 | Batch 0700/2466 | Cost: 0.0005\n",
            "Epoch: 009/010 | Batch 0750/2466 | Cost: 0.0000\n",
            "Epoch: 009/010 | Batch 0800/2466 | Cost: 0.0001\n",
            "Epoch: 009/010 | Batch 0850/2466 | Cost: 0.0002\n",
            "Epoch: 009/010 | Batch 0900/2466 | Cost: 0.0005\n",
            "Epoch: 009/010 | Batch 0950/2466 | Cost: 0.0117\n",
            "Epoch: 009/010 | Batch 1000/2466 | Cost: 0.0000\n",
            "Epoch: 009/010 | Batch 1050/2466 | Cost: 0.0000\n",
            "Epoch: 009/010 | Batch 1100/2466 | Cost: 0.0000\n",
            "Epoch: 009/010 | Batch 1150/2466 | Cost: 0.0002\n",
            "Epoch: 009/010 | Batch 1200/2466 | Cost: 0.0057\n",
            "Epoch: 009/010 | Batch 1250/2466 | Cost: 0.0000\n",
            "Epoch: 009/010 | Batch 1300/2466 | Cost: 0.0002\n",
            "Epoch: 009/010 | Batch 1350/2466 | Cost: 0.0000\n",
            "Epoch: 009/010 | Batch 1400/2466 | Cost: 0.0000\n",
            "Epoch: 009/010 | Batch 1450/2466 | Cost: 0.0001\n",
            "Epoch: 009/010 | Batch 1500/2466 | Cost: 0.0001\n",
            "Epoch: 009/010 | Batch 1550/2466 | Cost: 0.0000\n",
            "Epoch: 009/010 | Batch 1600/2466 | Cost: 0.0001\n",
            "Epoch: 009/010 | Batch 1650/2466 | Cost: 0.0000\n",
            "Epoch: 009/010 | Batch 1700/2466 | Cost: 0.0000\n",
            "Epoch: 009/010 | Batch 1750/2466 | Cost: 0.0000\n",
            "Epoch: 009/010 | Batch 1800/2466 | Cost: 0.0003\n",
            "Epoch: 009/010 | Batch 1850/2466 | Cost: 0.0024\n",
            "Epoch: 009/010 | Batch 1900/2466 | Cost: 0.0000\n",
            "Epoch: 009/010 | Batch 1950/2466 | Cost: 0.0000\n",
            "Epoch: 009/010 | Batch 2000/2466 | Cost: 0.0006\n",
            "Epoch: 009/010 | Batch 2050/2466 | Cost: 0.0000\n",
            "Epoch: 009/010 | Batch 2100/2466 | Cost: 0.0000\n",
            "Epoch: 009/010 | Batch 2150/2466 | Cost: 0.0000\n",
            "Epoch: 009/010 | Batch 2200/2466 | Cost: 0.0000\n",
            "Epoch: 009/010 | Batch 2250/2466 | Cost: 0.0002\n",
            "Epoch: 009/010 | Batch 2300/2466 | Cost: 0.0000\n",
            "Epoch: 009/010 | Batch 2350/2466 | Cost: 0.0000\n",
            "Epoch: 009/010 | Batch 2400/2466 | Cost: 0.0001\n",
            "Epoch: 009/010 | Batch 2450/2466 | Cost: 0.0000\n",
            "Epoch: 009/010 | Train: 0.996%   | Val: 0.997%\n",
            "Time elapsed: 29.78 min\n",
            "Epoch: 010/010 | Batch 0000/2466 | Cost: 0.0000\n",
            "Epoch: 010/010 | Batch 0050/2466 | Cost: 0.0000\n",
            "Epoch: 010/010 | Batch 0100/2466 | Cost: 0.0008\n",
            "Epoch: 010/010 | Batch 0150/2466 | Cost: 0.0000\n",
            "Epoch: 010/010 | Batch 0200/2466 | Cost: 0.0000\n",
            "Epoch: 010/010 | Batch 0250/2466 | Cost: 0.0012\n",
            "Epoch: 010/010 | Batch 0300/2466 | Cost: 0.0005\n",
            "Epoch: 010/010 | Batch 0350/2466 | Cost: 0.0002\n",
            "Epoch: 010/010 | Batch 0400/2466 | Cost: 0.0001\n",
            "Epoch: 010/010 | Batch 0450/2466 | Cost: 0.0001\n",
            "Epoch: 010/010 | Batch 0500/2466 | Cost: 0.0000\n",
            "Epoch: 010/010 | Batch 0550/2466 | Cost: 0.0002\n",
            "Epoch: 010/010 | Batch 0600/2466 | Cost: 0.0003\n",
            "Epoch: 010/010 | Batch 0650/2466 | Cost: 0.0000\n",
            "Epoch: 010/010 | Batch 0700/2466 | Cost: 0.0001\n",
            "Epoch: 010/010 | Batch 0750/2466 | Cost: 0.0011\n",
            "Epoch: 010/010 | Batch 0800/2466 | Cost: 0.0000\n",
            "Epoch: 010/010 | Batch 0850/2466 | Cost: 0.0000\n",
            "Epoch: 010/010 | Batch 0900/2466 | Cost: 0.0000\n",
            "Epoch: 010/010 | Batch 0950/2466 | Cost: 0.0000\n",
            "Epoch: 010/010 | Batch 1000/2466 | Cost: 0.0000\n",
            "Epoch: 010/010 | Batch 1050/2466 | Cost: 0.0017\n",
            "Epoch: 010/010 | Batch 1100/2466 | Cost: 0.0000\n",
            "Epoch: 010/010 | Batch 1150/2466 | Cost: 0.0000\n",
            "Epoch: 010/010 | Batch 1200/2466 | Cost: 0.0000\n",
            "Epoch: 010/010 | Batch 1250/2466 | Cost: 0.0007\n",
            "Epoch: 010/010 | Batch 1300/2466 | Cost: 0.0002\n",
            "Epoch: 010/010 | Batch 1350/2466 | Cost: 0.0003\n",
            "Epoch: 010/010 | Batch 1400/2466 | Cost: 0.0000\n",
            "Epoch: 010/010 | Batch 1450/2466 | Cost: 0.0000\n",
            "Epoch: 010/010 | Batch 1500/2466 | Cost: 0.0000\n",
            "Epoch: 010/010 | Batch 1550/2466 | Cost: 0.0001\n",
            "Epoch: 010/010 | Batch 1600/2466 | Cost: 0.0001\n",
            "Epoch: 010/010 | Batch 1650/2466 | Cost: 0.0004\n",
            "Epoch: 010/010 | Batch 1700/2466 | Cost: 0.0000\n",
            "Epoch: 010/010 | Batch 1750/2466 | Cost: 0.0011\n",
            "Epoch: 010/010 | Batch 1800/2466 | Cost: 0.0000\n",
            "Epoch: 010/010 | Batch 1850/2466 | Cost: 0.0000\n",
            "Epoch: 010/010 | Batch 1900/2466 | Cost: 0.0001\n",
            "Epoch: 010/010 | Batch 1950/2466 | Cost: 0.0000\n",
            "Epoch: 010/010 | Batch 2000/2466 | Cost: 0.0000\n",
            "Epoch: 010/010 | Batch 2050/2466 | Cost: 0.0011\n",
            "Epoch: 010/010 | Batch 2100/2466 | Cost: 0.0000\n",
            "Epoch: 010/010 | Batch 2150/2466 | Cost: 0.0000\n",
            "Epoch: 010/010 | Batch 2200/2466 | Cost: 0.0002\n",
            "Epoch: 010/010 | Batch 2250/2466 | Cost: 0.0000\n",
            "Epoch: 010/010 | Batch 2300/2466 | Cost: 0.0017\n",
            "Epoch: 010/010 | Batch 2350/2466 | Cost: 0.0000\n",
            "Epoch: 010/010 | Batch 2400/2466 | Cost: 0.0000\n",
            "Epoch: 010/010 | Batch 2450/2466 | Cost: 0.0000\n",
            "Epoch: 010/010 | Train: 0.997%   | Val: 0.998%\n",
            "Time elapsed: 33.24 min\n",
            "Total Training Time: 33.24 min\n"
          ]
        }
      ]
    },
    {
      "cell_type": "code",
      "metadata": {
        "colab": {
          "base_uri": "https://localhost:8080/"
        },
        "id": "nU3oYIU_S3co",
        "outputId": "b3fd7746-e5b5-45f5-d38d-5f0c256a44f4"
      },
      "source": [
        "from google.colab import drive\n",
        "drive.mount('/content/drive')"
      ],
      "execution_count": null,
      "outputs": [
        {
          "output_type": "stream",
          "name": "stdout",
          "text": [
            "Drive already mounted at /content/drive; to attempt to forcibly remount, call drive.mount(\"/content/drive\", force_remount=True).\n"
          ]
        }
      ]
    },
    {
      "cell_type": "code",
      "metadata": {
        "colab": {
          "base_uri": "https://localhost:8080/",
          "height": 541
        },
        "id": "EGRqtOSy-yU5",
        "outputId": "eea17702-3c65-41c1-f230-82041fe48acf"
      },
      "source": [
        "# plot cost functions\n",
        "minibatch_cost_cpu = [i.cpu().detach().numpy() for i in minibatch_cost]\n",
        "\n",
        "plt.plot(range(len(minibatch_cost_cpu)), minibatch_cost_cpu)\n",
        "plt.ylabel('Cost Function Label')\n",
        "plt.xlabel('Minibatch')\n",
        "plt.show()\n",
        "\n",
        "plt.plot(range(len(epoch_train_performance)), epoch_train_performance, label=\"train f1 scores\")\n",
        "plt.plot(range(len(epoch_val_performance)), epoch_val_performance, label=\"val f1 scores\")\n",
        "plt.ylabel('F1 Score')\n",
        "plt.xlabel('Epoch')\n",
        "plt.legend(bbox_to_anchor=(1.05, 1), loc='upper left', borderaxespad=0.)\n",
        "plt.show()"
      ],
      "execution_count": null,
      "outputs": [
        {
          "output_type": "display_data",
          "data": {
            "image/png": "[encoded data removed]",
            "text/plain": [
              "<Figure size 432x288 with 1 Axes>"
            ]
          },
          "metadata": {
            "needs_background": "light"
          }
        },
        {
          "output_type": "display_data",
          "data": {
            "image/png": "[encoded data removed]",
            "text/plain": [
              "<Figure size 432x288 with 1 Axes>"
            ]
          },
          "metadata": {
            "needs_background": "light"
          }
        }
      ]
    },
    {
      "cell_type": "markdown",
      "metadata": {
        "id": "obJPMecX-yU6"
      },
      "source": [
        "## Evaluation"
      ]
    },
    {
      "cell_type": "code",
      "metadata": {
        "colab": {
          "base_uri": "https://localhost:8080/"
        },
        "id": "03nz_tXO-yU7",
        "outputId": "1e94eb79-20cf-404e-e00d-2da57fd87c04"
      },
      "source": [
        "# Evaluate metrics on the test set\n",
        "y_hats = []\n",
        "y_acts = []\n",
        "counter = 0\n",
        "for i, (inputs, targets) in enumerate(test_loader):\n",
        "    yhat = model(inputs)[-1].cpu().detach().numpy().round()\n",
        "    yhat = np.argmax(yhat, axis=1)\n",
        "    y_hats.append(yhat)\n",
        "    y_acts.append(list(targets.cpu().detach().numpy()))\n",
        "    counter += 1\n",
        "\n",
        "y_hats = [item for sublist in y_hats for item in sublist]\n",
        "y_acts = [item for sublist in y_acts for item in sublist]\n",
        "\n",
        "print(\"TEST SET METRICS:\")\n",
        "f1 = f1_score(y_acts, y_hats)\n",
        "print(\"f1 score : \", f1)\n",
        "precision = precision_score(y_acts, y_hats)\n",
        "print(\"precision\", precision)\n",
        "recall = recall_score(y_acts, y_hats)\n",
        "print(\"recall\", recall)"
      ],
      "execution_count": null,
      "outputs": [
        {
          "output_type": "stream",
          "name": "stdout",
          "text": [
            "TEST SET METRICS:\n",
            "f1 score :  0.9979787771601819\n",
            "precision 1.0\n",
            "recall 0.9959657085224407\n"
          ]
        }
      ]
    },
    {
      "cell_type": "code",
      "metadata": {
        "colab": {
          "base_uri": "https://localhost:8080/"
        },
        "id": "h3_a-OxwsJwp",
        "outputId": "dec37d49-5897-4532-a417-fcc20e720eaa"
      },
      "source": [
        "test_ys = pd.DataFrame(list(zip(y_acts, y_hats)), columns=[\"y_true\", \"y_pred\"])\n",
        "\n",
        "print(\"TEST SET:\\n\")\n",
        "print(\"anomalous:\\n\")\n",
        "test_anomalous = test_ys[test_ys[\"y_true\"]==1]\n",
        "print(\"number of anomalies in the test set:\", len(test_anomalous))\n",
        "correct_anomalous = test_anomalous[test_anomalous[\"y_true\"] == test_anomalous[\"y_pred\"]]\n",
        "print(\"number of anomalies correctly identified\", len(correct_anomalous))\n",
        "incorrect_anomalous = test_anomalous[test_anomalous[\"y_true\"] != test_anomalous[\"y_pred\"]]\n",
        "print(\"number of anomalies incorrectly identified\", len(incorrect_anomalous))\n",
        "\n",
        "print(\"\\nnormal:\\n\")\n",
        "test_normals = test_ys[test_ys[\"y_true\"]==0]\n",
        "print(\"number of normals in the test set:\", len(test_normals))\n",
        "correct_normal = test_normals[test_normals[\"y_true\"] == test_normals[\"y_pred\"]]\n",
        "print(\"number of normals correctly identified\", len(correct_normal))\n",
        "incorrect_normal = test_normals[test_normals[\"y_true\"] != test_normals[\"y_pred\"]]\n",
        "print(\"number of normals incorrectly identified\", len(incorrect_normal))"
      ],
      "execution_count": null,
      "outputs": [
        {
          "output_type": "stream",
          "name": "stdout",
          "text": [
            "TEST SET:\n",
            "\n",
            "anomalous:\n",
            "\n",
            "number of anomalies in the test set: 1983\n",
            "number of anomalies correctly identified 1975\n",
            "number of anomalies incorrectly identified 8\n",
            "\n",
            "normal:\n",
            "\n",
            "number of normals in the test set: 118554\n",
            "number of normals correctly identified 118554\n",
            "number of normals incorrectly identified 0\n"
          ]
        }
      ]
    },
    {
      "cell_type": "code",
      "metadata": {
        "colab": {
          "base_uri": "https://localhost:8080/"
        },
        "id": "IW4Z3-S5pPsR",
        "outputId": "5b6bae6a-c483-4e74-e0e1-b57417defd1f"
      },
      "source": [
        "# Evaluate metrics on train set\n",
        "y_hats = []\n",
        "y_acts = []\n",
        "counter = 0\n",
        "for i, (inputs, targets) in enumerate(train_loader):\n",
        "    yhat = model(inputs)[-1].cpu().detach().numpy().round()\n",
        "    yhat = np.argmax(yhat, axis=1)\n",
        "    y_hats.append(yhat)\n",
        "    y_acts.append(list(targets.cpu().detach().numpy()))\n",
        "    counter += 1\n",
        "\n",
        "y_hats = [item for sublist in y_hats for item in sublist]\n",
        "y_acts = [item for sublist in y_acts for item in sublist]\n",
        "\n",
        "print(\"TRAIN SET METRICS:\")\n",
        "f1 = f1_score(y_acts, y_hats)\n",
        "print(\"f1 score : \", f1)\n",
        "precision = precision_score(y_acts, y_hats)\n",
        "print(\"precision\", precision)\n",
        "recall = recall_score(y_acts, y_hats)\n",
        "print(\"recall\", recall)"
      ],
      "execution_count": null,
      "outputs": [
        {
          "output_type": "stream",
          "name": "stdout",
          "text": [
            "TRAIN SET METRICS:\n",
            "f1 score :  0.9965922384415848\n",
            "precision 0.9960349735664904\n",
            "recall 0.9971501272264631\n"
          ]
        }
      ]
    },
    {
      "cell_type": "code",
      "metadata": {
        "colab": {
          "base_uri": "https://localhost:8080/"
        },
        "id": "aqZLZHRRpv-3",
        "outputId": "5e14d124-55d5-4a16-d8bc-506604e9406a"
      },
      "source": [
        "train_ys = pd.DataFrame(list(zip(y_acts, y_hats)), columns=[\"y_true\", \"y_pred\"])\n",
        "print(\"TRAIN SET:\\n\")\n",
        "print(\"anomalous:\\n\")\n",
        "train_anomalous = train_ys[train_ys[\"y_true\"]==1]\n",
        "print(\"number of anomalies in the train set:\", len(train_anomalous))\n",
        "correct_anomalous = train_anomalous[train_anomalous[\"y_true\"] == train_anomalous[\"y_pred\"]]\n",
        "print(\"number of anomalies correctly identified\", len(correct_anomalous))\n",
        "incorrect_anomalous = train_anomalous[train_anomalous[\"y_true\"] != train_anomalous[\"y_pred\"]]\n",
        "print(\"number of anomalies incorrectly identified\", len(incorrect_anomalous))\n",
        "\n",
        "print(\"\\nnormal:\\n\")\n",
        "train_normals = train_ys[train_ys[\"y_true\"]==0]\n",
        "print(\"number of normals in the train set:\", len(train_normals))\n",
        "correct_normal = train_normals[train_normals[\"y_true\"] == train_normals[\"y_pred\"]]\n",
        "print(\"number of normals correctly identified\", len(correct_normal))\n",
        "incorrect_normal = train_normals[train_normals[\"y_true\"] != train_normals[\"y_pred\"]]\n",
        "print(\"number of normals incorrectly identified\", len(incorrect_normal))"
      ],
      "execution_count": null,
      "outputs": [
        {
          "output_type": "stream",
          "name": "stdout",
          "text": [
            "TRAIN SET:\n",
            "\n",
            "anomalous:\n",
            "\n",
            "number of anomalies in the train set: 9825\n",
            "number of anomalies correctly identified 9797\n",
            "number of anomalies incorrectly identified 28\n",
            "\n",
            "normal:\n",
            "\n",
            "number of normals in the train set: 305777\n",
            "number of normals correctly identified 305738\n",
            "number of normals incorrectly identified 39\n"
          ]
        }
      ]
    },
    {
      "cell_type": "code",
      "metadata": {
        "id": "SN9sqHAiu3LG"
      },
      "source": [
        ""
      ],
      "execution_count": null,
      "outputs": []
    }
  ]
}